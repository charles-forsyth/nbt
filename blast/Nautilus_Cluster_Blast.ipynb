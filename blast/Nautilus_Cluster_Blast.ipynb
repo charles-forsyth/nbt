{
  "nbformat": 4,
  "nbformat_minor": 0,
  "metadata": {
    "colab": {
      "name": "Nautilus_Cluster_Blast.ipynb",
      "provenance": [],
      "mount_file_id": "1_080Ob66S0WxOhIToCwyFjQS66ffG_V_",
      "authorship_tag": "ABX9TyNJacFJLZqyGCuat63WawNc",
      "include_colab_link": true
    },
    "kernelspec": {
      "name": "python3",
      "display_name": "Python 3"
    }
  },
  "cells": [
    {
      "cell_type": "markdown",
      "metadata": {
        "id": "view-in-github",
        "colab_type": "text"
      },
      "source": [
        "<a href=\"https://colab.research.google.com/github/charles-forsyth/nbt/blob/main/blast/Nautilus_Cluster_Blast.ipynb\" target=\"_parent\"><img src=\"https://colab.research.google.com/assets/colab-badge.svg\" alt=\"Open In Colab\"/></a>"
      ]
    },
    {
      "cell_type": "markdown",
      "metadata": {
        "id": "PtT34W3NW1qy"
      },
      "source": [
        "Download and install wget"
      ]
    },
    {
      "cell_type": "code",
      "metadata": {
        "id": "dbbBpK6PeR5o"
      },
      "source": [
        "!apt-get update && apt-get install wget"
      ],
      "execution_count": null,
      "outputs": []
    },
    {
      "cell_type": "markdown",
      "metadata": {
        "id": "p3b9vtE6XF6X"
      },
      "source": [
        "Download and install Kubectl"
      ]
    },
    {
      "cell_type": "code",
      "metadata": {
        "id": "quEWF2Qygqeg"
      },
      "source": [
        "!curl -LO https://storage.googleapis.com/kubernetes-release/release/v1.19.0/bin/linux/amd64/kubectl\n",
        "!chmod +x ./kubectl\n",
        "!mv ./kubectl /usr/local/bin/kubectl"
      ],
      "execution_count": null,
      "outputs": []
    },
    {
      "cell_type": "markdown",
      "metadata": {
        "id": "cI0pKPfVXPid"
      },
      "source": [
        "Make kube dir if it's not there already"
      ]
    },
    {
      "cell_type": "code",
      "metadata": {
        "id": "gKvWehY6g1Dh"
      },
      "source": [
        "!mkdir ~/.kube"
      ],
      "execution_count": null,
      "outputs": []
    },
    {
      "cell_type": "markdown",
      "metadata": {
        "id": "HwzDy7__XXev"
      },
      "source": [
        "Go to https://nautilus.optiputer.net/ and get the updated config.\n",
        "Then move it into .kube"
      ]
    },
    {
      "cell_type": "code",
      "metadata": {
        "id": "adqU7cMLhk03"
      },
      "source": [
        "!mv ./config ~/.kube/."
      ],
      "execution_count": null,
      "outputs": []
    },
    {
      "cell_type": "markdown",
      "metadata": {
        "id": "P5de8FOQXmwi"
      },
      "source": [
        "Check state of running pods"
      ]
    },
    {
      "cell_type": "code",
      "metadata": {
        "id": "q30IZvhPhokO",
        "outputId": "f6eca74f-cfe6-4c02-8799-b1bca178e42e",
        "colab": {
          "base_uri": "https://localhost:8080/"
        }
      },
      "source": [
        "!kubectl get pod"
      ],
      "execution_count": null,
      "outputs": [
        {
          "output_type": "stream",
          "text": [
            "NAME           READY   STATUS    RESTARTS   AGE\n",
            "blast1-fgz82   1/1     Running   0          38m\n",
            "blast2-lj9fl   1/1     Running   0          22m\n"
          ],
          "name": "stdout"
        }
      ]
    },
    {
      "cell_type": "markdown",
      "metadata": {
        "id": "nUqcPB6lXsA1"
      },
      "source": [
        "Get logs of running pod"
      ]
    },
    {
      "cell_type": "code",
      "metadata": {
        "id": "X0wtHQn-So3u"
      },
      "source": [
        "!kubectl logs blast1-fgz82"
      ],
      "execution_count": null,
      "outputs": []
    },
    {
      "cell_type": "markdown",
      "metadata": {
        "id": "HWiUzg7TXwA4"
      },
      "source": [
        "Get detail info about a pod"
      ]
    },
    {
      "cell_type": "code",
      "metadata": {
        "id": "d5HrKbtbSwqJ"
      },
      "source": [
        "!kubectl describe pods blast1-fgz82"
      ],
      "execution_count": null,
      "outputs": []
    },
    {
      "cell_type": "markdown",
      "metadata": {
        "id": "OCHcuIiFXy7P"
      },
      "source": [
        "Exec a command on a pod"
      ]
    },
    {
      "cell_type": "code",
      "metadata": {
        "id": "QwCyr6y0Uxgu",
        "outputId": "105d44b2-2612-4a89-a127-851cff580415",
        "colab": {
          "base_uri": "https://localhost:8080/"
        }
      },
      "source": [
        "!kubectl exec -it blast1-fgz82 uptime"
      ],
      "execution_count": null,
      "outputs": [
        {
          "output_type": "stream",
          "text": [
            "kubectl exec [POD] [COMMAND] is DEPRECATED and will be removed in a future version. Use kubectl exec [POD] -- [COMMAND] instead.\n",
            " 04:17:50 up 47 min,  0 users,  load average: 39.99, 40.49, 35.78\n"
          ],
          "name": "stdout"
        }
      ]
    },
    {
      "cell_type": "markdown",
      "metadata": {
        "id": "KUg-Nk6IYB3R"
      },
      "source": [
        "Check the zie of the output file"
      ]
    },
    {
      "cell_type": "code",
      "metadata": {
        "id": "sJ8YvLhwUHyO",
        "outputId": "2eb1f041-6901-45cd-cada-15ea28b2d710",
        "colab": {
          "base_uri": "https://localhost:8080/"
        }
      },
      "source": [
        "!cd blast/ && ls -latrh zebrafish.x.mouse"
      ],
      "execution_count": null,
      "outputs": [
        {
          "output_type": "stream",
          "text": [
            "-rw------- 1 root root 72K Nov 10 03:50 zebrafish.x.mouse\n"
          ],
          "name": "stdout"
        }
      ]
    },
    {
      "cell_type": "markdown",
      "metadata": {
        "id": "Blag7LGtYMAt"
      },
      "source": [
        "Copy blast file from google drive into working directory"
      ]
    },
    {
      "cell_type": "code",
      "metadata": {
        "id": "BKeO1dIsRX9p"
      },
      "source": [
        "!cp -r /content/drive/My\\ Drive/Files/Backups/LaptopWorkstation/root/repos/nbt/blast .\n"
      ],
      "execution_count": null,
      "outputs": []
    },
    {
      "cell_type": "markdown",
      "metadata": {
        "id": "0_jfQPwyYSUP"
      },
      "source": [
        "Submit the run script."
      ]
    },
    {
      "cell_type": "code",
      "metadata": {
        "id": "jADaQtxeRu5n"
      },
      "source": [
        "!cd blast/ && chmod 755 ./submit.sh && ./submit.sh 2"
      ],
      "execution_count": null,
      "outputs": []
    },
    {
      "cell_type": "code",
      "metadata": {
        "id": "5HSlT6EYsQgG"
      },
      "source": [
        "from google.colab import drive\n",
        "drive.mount('/content/drive')\n"
      ],
      "execution_count": null,
      "outputs": []
    },
    {
      "cell_type": "code",
      "metadata": {
        "id": "kOyLi-sDTEae"
      },
      "source": [
        "!lscpu"
      ],
      "execution_count": null,
      "outputs": []
    },
    {
      "cell_type": "code",
      "metadata": {
        "id": "cPDrNSs3TSWj"
      },
      "source": [
        "!top -bn1"
      ],
      "execution_count": null,
      "outputs": []
    }
  ]
}